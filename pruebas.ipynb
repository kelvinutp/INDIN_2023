{
 "cells": [
  {
   "cell_type": "code",
   "execution_count": 1,
   "metadata": {},
   "outputs": [],
   "source": [
    "import cv2\n",
    "import numpy as np"
   ]
  },
  {
   "cell_type": "code",
   "execution_count": 20,
   "metadata": {},
   "outputs": [],
   "source": [
    "base=cv2.imread('./images/tornillo_7.jpg')\n",
    "# change=cv2.imread('./images/headphones.jpg')"
   ]
  },
  {
   "cell_type": "code",
   "execution_count": 21,
   "metadata": {},
   "outputs": [
    {
     "data": {
      "text/plain": [
       "array([[[161, 163, 163],\n",
       "        [159, 161, 161],\n",
       "        [157, 159, 159],\n",
       "        ...,\n",
       "        [171, 172, 176],\n",
       "        [169, 172, 177],\n",
       "        [169, 172, 177]],\n",
       "\n",
       "       [[160, 162, 162],\n",
       "        [160, 162, 162],\n",
       "        [159, 161, 161],\n",
       "        ...,\n",
       "        [171, 172, 176],\n",
       "        [169, 172, 176],\n",
       "        [170, 173, 177]],\n",
       "\n",
       "       [[160, 162, 162],\n",
       "        [161, 163, 163],\n",
       "        [162, 164, 164],\n",
       "        ...,\n",
       "        [171, 173, 174],\n",
       "        [170, 174, 175],\n",
       "        [170, 174, 175]],\n",
       "\n",
       "       ...,\n",
       "\n",
       "       [[172, 171, 175],\n",
       "        [173, 172, 174],\n",
       "        [173, 172, 176],\n",
       "        ...,\n",
       "        [178, 180, 181],\n",
       "        [178, 180, 181],\n",
       "        [179, 181, 182]],\n",
       "\n",
       "       [[173, 172, 174],\n",
       "        [175, 175, 175],\n",
       "        [175, 174, 176],\n",
       "        ...,\n",
       "        [178, 180, 181],\n",
       "        [178, 180, 181],\n",
       "        [178, 180, 181]],\n",
       "\n",
       "       [[173, 173, 173],\n",
       "        [176, 177, 175],\n",
       "        [177, 177, 177],\n",
       "        ...,\n",
       "        [178, 180, 181],\n",
       "        [177, 179, 180],\n",
       "        [177, 179, 180]]], dtype=uint8)"
      ]
     },
     "execution_count": 21,
     "metadata": {},
     "output_type": "execute_result"
    }
   ],
   "source": [
    " #blur image \n",
    "# im1=cv2.blur(im1,(5,5))\n",
    "# im1=cv2.GaussianBlur(im1,(5,5),0)\n",
    "im1=cv2.medianBlur(base,5)\n",
    "\n",
    "im1=cv2.cvtColor(im1,cv2.COLOR_BGR2GRAY)\n",
    "#set threshold\n",
    "# _,t=cv2.threshold(im1,100,255,cv2.THRESH_BINARY_INV)\n",
    "\n",
    "# c,b=cv2.findContours(t,cv2.RETR_EXTERNAL,cv2.CHAIN_APPROX_NONE)\n",
    "\n",
    "# im1=cv2.drawContours(base,c,-1,(0,255,0),1)\n",
    "\n",
    "#finding the screw circular shape and center\n",
    "circles=cv2.HoughCircles(im1,cv2.HOUGH_GRADIENT,1,20,param1=50,param2=30,minRadius=0,maxRadius=0)\n",
    "\n",
    "# assert bool(circles) is not False,\"no circles obtained\"\n",
    "circles=np.uint16(np.around(circles))\n",
    "\n",
    "for i in circles[0,:]:\n",
    "    cv2.circle(base,(i[0],i[1]),i[2],(0,255,0),2) #borde del tornillo\n",
    "    cv2.circle(base,(i[0],i[1]),2,(0,0,255),3) #centro del tornillo\n",
    "\n",
    "cv2.circle(base,(base.shape[1]//2,base.shape[0]//2),2,(255,0,0),3)#centro de la imagen"
   ]
  },
  {
   "cell_type": "code",
   "execution_count": 22,
   "metadata": {},
   "outputs": [],
   "source": [
    "tornillos=[] #x,y\n",
    "for i in circles[0,:]:\n",
    "    tornillos.append(i[0])\n",
    "    tornillos.append(i[1])"
   ]
  },
  {
   "cell_type": "code",
   "execution_count": 23,
   "metadata": {},
   "outputs": [
    {
     "data": {
      "text/plain": [
       "[78, 106]"
      ]
     },
     "execution_count": 23,
     "metadata": {},
     "output_type": "execute_result"
    }
   ],
   "source": [
    "tornillos"
   ]
  },
  {
   "cell_type": "code",
   "execution_count": 24,
   "metadata": {},
   "outputs": [
    {
     "data": {
      "text/plain": [
       "[119, 87]"
      ]
     },
     "execution_count": 24,
     "metadata": {},
     "output_type": "execute_result"
    }
   ],
   "source": [
    "centro=[base.shape[0]//2,base.shape[1]//2]\n",
    "centro"
   ]
  },
  {
   "cell_type": "code",
   "execution_count": 25,
   "metadata": {},
   "outputs": [
    {
     "data": {
      "text/plain": [
       "array([-41,  19])"
      ]
     },
     "execution_count": 25,
     "metadata": {},
     "output_type": "execute_result"
    }
   ],
   "source": [
    "np.subtract(tornillos,centro)\n",
    "#movimento[x,y]"
   ]
  },
  {
   "cell_type": "code",
   "execution_count": 18,
   "metadata": {},
   "outputs": [
    {
     "data": {
      "text/plain": [
       "array([[[ 78, 106,  17]]], dtype=uint16)"
      ]
     },
     "execution_count": 18,
     "metadata": {},
     "output_type": "execute_result"
    }
   ],
   "source": [
    "circles"
   ]
  },
  {
   "cell_type": "code",
   "execution_count": null,
   "metadata": {},
   "outputs": [],
   "source": [
    "#making object contour\n",
    "_,con=cv2.threshold(im2,150,255,cv2.THRESH_BINARY)\n",
    "\n",
    "con,_=cv2.findContours(con,cv2.RETR_TREE,cv2.CHAIN_APPROX_SIMPLE)\n",
    "cv2.drawContours(change,con,-1,(0,255,0),10,cv2.LINE_AA)"
   ]
  },
  {
   "cell_type": "code",
   "execution_count": 26,
   "metadata": {},
   "outputs": [],
   "source": [
    "# img=cv2.resize(im1,im1.shape[:2])\n",
    "cv2.imshow('cambio',base)\n",
    "\n",
    "cv2.waitKey(0)\n",
    "cv2.destroyAllWindows()\n"
   ]
  },
  {
   "cell_type": "code",
   "execution_count": 24,
   "metadata": {},
   "outputs": [
    {
     "data": {
      "text/plain": [
       "3"
      ]
     },
     "execution_count": 24,
     "metadata": {},
     "output_type": "execute_result"
    }
   ],
   "source": [
    "base.shape[0]"
   ]
  },
  {
   "cell_type": "code",
   "execution_count": null,
   "metadata": {},
   "outputs": [],
   "source": []
  }
 ],
 "metadata": {
  "kernelspec": {
   "display_name": "venv",
   "language": "python",
   "name": "python3"
  },
  "language_info": {
   "codemirror_mode": {
    "name": "ipython",
    "version": 3
   },
   "file_extension": ".py",
   "mimetype": "text/x-python",
   "name": "python",
   "nbconvert_exporter": "python",
   "pygments_lexer": "ipython3",
   "version": "3.10.2"
  },
  "orig_nbformat": 4,
  "vscode": {
   "interpreter": {
    "hash": "734c396a6ebfea7e7f2ceff82f06192c954cfd74a89b0a670cfa9a89ca858beb"
   }
  }
 },
 "nbformat": 4,
 "nbformat_minor": 2
}
