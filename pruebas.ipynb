{
 "cells": [
  {
   "cell_type": "code",
   "execution_count": 1,
   "metadata": {},
   "outputs": [],
   "source": [
    "import cv2\n",
    "import numpy as np"
   ]
  },
  {
   "cell_type": "code",
   "execution_count": 8,
   "metadata": {},
   "outputs": [],
   "source": [
    "base=cv2.imread('./images/empty.jpg')\n",
    "change=cv2.imread('./images/headphones.jpg')"
   ]
  },
  {
   "cell_type": "code",
   "execution_count": 9,
   "metadata": {},
   "outputs": [],
   "source": [
    "#change to grayscale\n",
    "im1=cv2.cvtColor(base,cv2.COLOR_BGR2GRAY)\n",
    "im2=cv2.cvtColor(change,cv2.COLOR_BGR2GRAY)"
   ]
  },
  {
   "cell_type": "code",
   "execution_count": 10,
   "metadata": {},
   "outputs": [
    {
     "data": {
      "text/plain": [
       "array([[[112, 101,  81],\n",
       "        [119, 108,  88],\n",
       "        [115, 104,  84],\n",
       "        ...,\n",
       "        [125, 109,  93],\n",
       "        [126, 110,  94],\n",
       "        [126, 110,  94]],\n",
       "\n",
       "       [[117, 106,  86],\n",
       "        [116, 105,  85],\n",
       "        [113, 102,  82],\n",
       "        ...,\n",
       "        [128, 112,  96],\n",
       "        [128, 112,  96],\n",
       "        [128, 112,  96]],\n",
       "\n",
       "       [[116, 105,  85],\n",
       "        [113, 102,  82],\n",
       "        [111, 100,  80],\n",
       "        ...,\n",
       "        [130, 114,  98],\n",
       "        [128, 112,  96],\n",
       "        [127, 111,  95]],\n",
       "\n",
       "       ...,\n",
       "\n",
       "       [[  0,   0,   1],\n",
       "        [  0,   0,   1],\n",
       "        [  2,   1,   3],\n",
       "        ...,\n",
       "        [ 14,  27,  29],\n",
       "        [ 14,  27,  29],\n",
       "        [ 15,  28,  30]],\n",
       "\n",
       "       [[  1,   0,   2],\n",
       "        [  0,   0,   1],\n",
       "        [  4,   3,   5],\n",
       "        ...,\n",
       "        [ 16,  29,  31],\n",
       "        [ 15,  28,  30],\n",
       "        [ 13,  26,  28]],\n",
       "\n",
       "       [[  1,   0,   2],\n",
       "        [  0,   0,   1],\n",
       "        [  4,   3,   5],\n",
       "        ...,\n",
       "        [ 16,  29,  31],\n",
       "        [ 17,  30,  32],\n",
       "        [ 14,  27,  29]]], dtype=uint8)"
      ]
     },
     "execution_count": 10,
     "metadata": {},
     "output_type": "execute_result"
    }
   ],
   "source": [
    "#making object contour\n",
    "_,con=cv2.threshold(im2,150,255,cv2.THRESH_BINARY)\n",
    "\n",
    "con,_=cv2.findContours(con,cv2.RETR_TREE,cv2.CHAIN_APPROX_SIMPLE)\n",
    "cv2.drawContours(change,con,-1,(0,255,0),10,cv2.LINE_AA)"
   ]
  },
  {
   "cell_type": "code",
   "execution_count": 11,
   "metadata": {},
   "outputs": [],
   "source": [
    "img=cv2.resize(change,(480,270))\n",
    "cv2.imshow('cambio',img)\n",
    "\n",
    "cv2.waitKey(0)\n",
    "cv2.destroyAllWindows()\n"
   ]
  },
  {
   "cell_type": "code",
   "execution_count": null,
   "metadata": {},
   "outputs": [],
   "source": []
  }
 ],
 "metadata": {
  "kernelspec": {
   "display_name": "venv",
   "language": "python",
   "name": "python3"
  },
  "language_info": {
   "codemirror_mode": {
    "name": "ipython",
    "version": 3
   },
   "file_extension": ".py",
   "mimetype": "text/x-python",
   "name": "python",
   "nbconvert_exporter": "python",
   "pygments_lexer": "ipython3",
   "version": "3.8.10"
  },
  "orig_nbformat": 4,
  "vscode": {
   "interpreter": {
    "hash": "734c396a6ebfea7e7f2ceff82f06192c954cfd74a89b0a670cfa9a89ca858beb"
   }
  }
 },
 "nbformat": 4,
 "nbformat_minor": 2
}
