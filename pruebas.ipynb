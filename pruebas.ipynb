{
 "cells": [
  {
   "cell_type": "code",
   "execution_count": 16,
   "metadata": {},
   "outputs": [],
   "source": [
    "import cv2\n",
    "import numpy as np"
   ]
  },
  {
   "cell_type": "code",
   "execution_count": 17,
   "metadata": {},
   "outputs": [],
   "source": [
    "base=cv2.imread('./images/empty.jpg')\n",
    "change=cv2.imread('./images/wallet.jpg')"
   ]
  },
  {
   "cell_type": "code",
   "execution_count": 18,
   "metadata": {},
   "outputs": [],
   "source": [
    "#change to grayscale\n",
    "im1=cv2.cvtColor(base,cv2.COLOR_BGR2GRAY)\n",
    "im2=cv2.cvtColor(change,cv2.COLOR_BGR2GRAY)"
   ]
  },
  {
   "cell_type": "code",
   "execution_count": 19,
   "metadata": {},
   "outputs": [],
   "source": [
    "#gaussian blur\n",
    "im1=cv2.GaussianBlur(im1,(41,41),0)\n",
    "im2=cv2.GaussianBlur(im2,(41,41),0)"
   ]
  },
  {
   "cell_type": "code",
   "execution_count": 20,
   "metadata": {},
   "outputs": [],
   "source": [
    "#getting difference\n",
    "diff=im2-im1\n",
    "\n",
    "_,th=cv2.threshold(diff,190,255,1)"
   ]
  },
  {
   "cell_type": "code",
   "execution_count": 21,
   "metadata": {},
   "outputs": [],
   "source": [
    "#getting object\n",
    "obj=cv2.bitwise_and(diff,th,None)"
   ]
  },
  {
   "cell_type": "code",
   "execution_count": 24,
   "metadata": {},
   "outputs": [],
   "source": [
    "#making object contour\n",
    "_,con=cv2.threshold(obj,100,255,0)\n",
    "\n",
    "kernel=np.ones((15,15),np.uint8)\n",
    "obj=cv2.dilate(obj,kernel,iterations=1)\n",
    "\n",
    "_,contour=cv2.findContours(obj,cv2.RETR_TREE,cv2.CHAIN_APPROX_SIMPLE)\n",
    "contour=sorted(contour,key=cv2.contourArea,reverse=True)[:3]\n",
    "cv2.drawContours(change,[contour[0]],-1,(0,255,0),30)"
   ]
  },
  {
   "cell_type": "code",
   "execution_count": 26,
   "metadata": {},
   "outputs": [],
   "source": [
    "img=cv2.resize(change,(480,270))\n",
    "cv2.imshow('cambio',img)\n",
    "\n",
    "cv2.waitKey(0)\n",
    "cv2.destroyAllWindows()\n"
   ]
  },
  {
   "cell_type": "code",
   "execution_count": null,
   "metadata": {},
   "outputs": [],
   "source": []
  }
 ],
 "metadata": {
  "kernelspec": {
   "display_name": "venv",
   "language": "python",
   "name": "python3"
  },
  "language_info": {
   "codemirror_mode": {
    "name": "ipython",
    "version": 3
   },
   "file_extension": ".py",
   "mimetype": "text/x-python",
   "name": "python",
   "nbconvert_exporter": "python",
   "pygments_lexer": "ipython3",
   "version": "3.8.10"
  },
  "orig_nbformat": 4,
  "vscode": {
   "interpreter": {
    "hash": "734c396a6ebfea7e7f2ceff82f06192c954cfd74a89b0a670cfa9a89ca858beb"
   }
  }
 },
 "nbformat": 4,
 "nbformat_minor": 2
}
